{
 "cells": [
  {
   "cell_type": "code",
   "execution_count": 2,
   "metadata": {},
   "outputs": [
    {
     "name": "stderr",
     "output_type": "stream",
     "text": [
      "Matplotlib is building the font cache; this may take a moment.\n"
     ]
    }
   ],
   "source": [
    "import pandas as pd\n",
    "import numpy as np\n",
    "from sklearn.tree import DecisionTreeClassifier\n",
    "from sklearn.model_selection import train_test_split\n",
    "from sklearn.metrics import accuracy_score\n",
    "from sklearn import tree, linear_model\n",
    "import joblib\n",
    "import pickle\n",
    "from matplotlib import style\n",
    "import matplotlib.pyplot as plt"
   ]
  },
  {
   "attachments": {},
   "cell_type": "markdown",
   "metadata": {},
   "source": [
    "## Decision Tree Classifier"
   ]
  },
  {
   "cell_type": "code",
   "execution_count": 2,
   "metadata": {},
   "outputs": [
    {
     "name": "stdout",
     "output_type": "stream",
     "text": [
      "['HipHop']\n"
     ]
    },
    {
     "name": "stderr",
     "output_type": "stream",
     "text": [
      "/home/cedric/miniconda3/envs/mlbasics/lib/python3.7/site-packages/sklearn/base.py:451: UserWarning: X does not have valid feature names, but DecisionTreeClassifier was fitted with feature names\n",
      "  \"X does not have valid feature names, but\"\n"
     ]
    }
   ],
   "source": [
    "music_data = pd.read_csv('music.csv')\n",
    "X = music_data.drop(columns=['genre'])\n",
    "y = music_data['genre']\n",
    "X_train, X_test, y_train, y_test = train_test_split(X, y, test_size=0.2)\n",
    "\n",
    "model = DecisionTreeClassifier()\n",
    "model.fit(X_train, y_train)\n",
    "predictions = model.predict(X_test)\n",
    "\n",
    "saved_model = joblib.dump(model, 'music-recommender.joblib')\n",
    "loaded_model = joblib.load('music-recommender.joblib')\n",
    "\n",
    "predictions = loaded_model.predict([[21, 1]])\n",
    "print(predictions)"
   ]
  },
  {
   "cell_type": "code",
   "execution_count": 3,
   "metadata": {},
   "outputs": [],
   "source": [
    "tree.export_graphviz(model,\n",
    "                     out_file='music-recommender.dot',\n",
    "                     feature_names=['age', 'gender'],\n",
    "                     class_names=sorted(y.unique()),\n",
    "                     label='all',\n",
    "                     rounded=True,\n",
    "                     filled=True\n",
    "                     )"
   ]
  },
  {
   "attachments": {},
   "cell_type": "markdown",
   "metadata": {},
   "source": [
    "## Linear Regression"
   ]
  },
  {
   "cell_type": "code",
   "execution_count": 3,
   "metadata": {},
   "outputs": [
    {
     "name": "stdout",
     "output_type": "stream",
     "text": [
      "Accuracy: 0.847586759665485\n",
      "Coefficients: [[ 0.15211163  0.96994008 -0.39626494 -0.20833724  0.03658004]]\n",
      "Intercept: [-1.30699582]\n"
     ]
    }
   ],
   "source": [
    "# 1. load the data\n",
    "data = pd.read_csv('student-mat.csv', sep=';')\n",
    "data = data[['G1', 'G2', 'G3', 'failures', 'studytime', 'absences']]\n",
    "\n",
    "# 2. separate the feature and output columns\n",
    "predict = 'G3'\n",
    "X = data.drop(columns=[predict])\n",
    "y = data[[predict]]\n",
    "\n",
    "# 3. split the data\n",
    "X_train, X_test, y_train, y_test = train_test_split(X, y, test_size=0.1)\n",
    "\n",
    "# 4. fit the model\n",
    "linear = linear_model.LinearRegression()\n",
    "linear.fit(X_train, y_train)\n",
    "\n",
    "# 5. check performance of model\n",
    "acc = linear.score(X_test, y_test)\n",
    "print(f\"Accuracy: {acc}\")\n",
    "\n",
    "# Misc: Coefficients\n",
    "print(f\"Coefficients: {linear.coef_}\")\n",
    "print(f\"Intercept: {linear.intercept_}\")"
   ]
  },
  {
   "cell_type": "code",
   "execution_count": null,
   "metadata": {},
   "outputs": [],
   "source": [
    "# Checking predictions\n",
    "predictions = linear.predict(X_test)\n",
    "for i in range(len(predictions)):\n",
    "  print(round(predictions[i][0], 2), np.array(y_test)[i][0])"
   ]
  },
  {
   "cell_type": "code",
   "execution_count": 5,
   "metadata": {},
   "outputs": [
    {
     "name": "stdout",
     "output_type": "stream",
     "text": [
      "Accuracy: 0.7434346469055692\n",
      "Accuracy: 0.8404586213816203\n",
      "Accuracy: 0.8736548239430033\n",
      "Accuracy: 0.8885557373488051\n",
      "Accuracy: 0.9217664533022876\n",
      "Accuracy: 0.9506740715496838\n"
     ]
    }
   ],
   "source": [
    "# Saving the best model\n",
    "best = 0\n",
    "for _ in range(100):\n",
    "\n",
    "  X_train, X_test, y_train, y_test = train_test_split(X, y, test_size=0.1)\n",
    "\n",
    "  linear = linear_model.LinearRegression()\n",
    "  linear.fit(X_train, y_train)\n",
    "\n",
    "  acc = linear.score(X_test, y_test)\n",
    "\n",
    "  if acc > best:\n",
    "    best = acc\n",
    "    print(f\"Accuracy: {acc}\")\n",
    "    with open('studentmodel.pickle', 'wb') as f:\n",
    "      pickle.dump(linear, f)"
   ]
  }
 ],
 "metadata": {
  "kernelspec": {
   "display_name": "mlbasics",
   "language": "python",
   "name": "python3"
  },
  "language_info": {
   "codemirror_mode": {
    "name": "ipython",
    "version": 3
   },
   "file_extension": ".py",
   "mimetype": "text/x-python",
   "name": "python",
   "nbconvert_exporter": "python",
   "pygments_lexer": "ipython3",
   "version": "3.7.16"
  },
  "orig_nbformat": 4
 },
 "nbformat": 4,
 "nbformat_minor": 2
}
